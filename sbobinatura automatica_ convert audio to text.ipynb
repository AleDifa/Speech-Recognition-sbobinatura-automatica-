{
 "cells": [
  {
   "cell_type": "markdown",
   "metadata": {},
   "source": [
    "# sbobinare file audio \n",
    "### Speech Recognition - from Autio to Text Free\n",
    "\n",
    "Questo semplice programma converte un audio in testo, analizzandolo tramite le API gartuite di Google <br>\n",
    "funziona passando ad una funzione di input un file audio ed automaticamente estrarra convertirà tutto stampando il testo <br>"
   ]
  },
  {
   "cell_type": "code",
   "execution_count": 10,
   "metadata": {},
   "outputs": [],
   "source": [
    "from pydub import AudioSegment\n",
    "from pydub.utils import make_chunks\n",
    "import warnings\n",
    "import speech_recognition \n",
    "warnings.filterwarnings('ignore')\n",
    "# load the track\n",
    "myaudio = AudioSegment.from_wav(\"Discorso di fine anno Mattarella.wav\" , \"wav\")\n",
    "# to work well, we load each audio max 50 seconds long\n",
    "# pydub calculates in millisec 50000 = 50 seconds\n",
    "chunk_length_ms = 50000\n",
    "# Make chunks from myaudio for chunk_length_ms\n",
    "chunks = make_chunks(myaudio, chunk_length_ms)\n",
    "\n",
    "\n",
    "# create a istance of recognize speech\n",
    "r = speech_recognition.Recognizer()\n",
    "# Export all of the individual chunks as wav files\n",
    "text = \"\"\n",
    "\n",
    "for i,chunk in enumerate(chunks):\n",
    "    chunk_name = \"traccia{0}.wav\".format(i)\n",
    "    #print (\"exporting\", chunk_name)\n",
    "    chunk.export(chunk_name, format=\"wav\")\n",
    "    \n",
    "    traccia= speech_recognition.AudioFile(chunk_name)\n",
    "    with traccia as source:\n",
    "        audio = r.record(source)\n",
    "        print(chunk_name)\n",
    "    a+= r.recognize_google(audio, language=\"it_IT\")  + \"\\r\\n\" "
   ]
  },
  {
   "cell_type": "code",
   "execution_count": 36,
   "metadata": {},
   "outputs": [
    {
     "name": "stdout",
     "output_type": "stream",
     "text": [
      "cara concittadine e cari concittadini Ho sempre vissuto questo tradizionale appuntamento di fine anno con molto coinvolgimento e anche con un po' di emozione oggi questi sentimenti sono accresciuti dal fatto che tra pochi giorni come ti spunta la Costituzione si concluderà il mio ruolo di presidente l'augurio che attento di rivolgermi si fa quindi più intenso perché alla necessità di guardare insieme con fiducia e speranza al nuovo anno si aggiunge il bisogno di esprimere\r\n",
      "grazie a ciascuno di noi per aver mostrato a più riprese il volto autentico dell'Italia quello laborioso creativo solidale sono stati 7 anni impegnativi complessi densi di emozioni mi tornano in mente i momenti più felici Ma anche giorni drammatici quelli in cui sembravano prevalere le difficoltà e le sofferenze Ho percepito accanto a me l'aspirazione diffusa degli italiani a essere una vera comunità con un senso di solidarietà che precede affianca le molteplici differenze\r\n",
      "idee di interessi in questi giorni ho ripercorso nel pensiero quello che insieme abbiamo vissuto in questi ultimi due anni il tempo della pandemia che ha sconvolto il mondo e le nostre vite ci stringiamo ancora una volta attorno alle famiglie delle tante vittime il loro lutto è stato ed è il lutto è tutta Italia dobbiamo ricordare come patrimonio inestimabile di umanità l'abnegazione dei medici dei sanitari dei volontari di chi si è impegnato per contrastare il virus di chi ha continuato a svolgere i suoi compiti nonostante\r\n",
      "i meriti di chi fidandosi della scienza delle istituzioni adottato le precauzioni raccomandate gli ha scelto di vaccinarsi la quasi totalità degli italiani che voglio ancora una volta ringraziare per la maturità e per il senso di responsabilità dimostrati in queste ore in cui contagi tornano preoccupare e livelli di guardia si alzano a causa delle varianti del virus imprevedibili nelle mutevoli configurazioni si avverte talvolta un senso di frustrazione non dobbiamo scoraggiarci si è fatto mo\r\n",
      "i vaccini sono stati e sono uno strumento prezioso non perché garantiscano le muser abilità Ma perché rappresentano la difesa che consente di ridurre in misura decisiva danni e rischi per sé e per gli altri ricordo la sensazione di impotenza e di disperazione che respiravamo nei primi mesi della pandemia di fronte alle scene drammatiche delle vittime del virus alle bare trasportate nei mezzi militari allungo necessario confinamento e di tutti in casa alle scuole agli uffici e negozi chiusi\r\n",
      "collasso cosa avremmo dato in quei giorni per avere il vaccino la ricerca e la scienza ci hanno consegnato molto prima di quanto si potesse sperare questa opportunità sprecarla e anche un'offesa a chi non l'ha avuta e a chi non riesce oggi ad averla i vaccini hanno salvato tante migliaia di vite hanno ridotto di molto Ripeto la pericolosità della malattia Basta pensare a come l'anno passato abbiamo trascorso le festività natalizie e come invece è stato possibile farlo in questi giorni sia pure con prudenza e limitazioni\r\n",
      "la pandemia ha inferto ferite profonde sociali economiche morali ha provocato disagi per i giovani solitudine per gli anziani sofferenze per le persone con disabilità la crisi su scala globale ha causato povertà esclusione e perdite di lavoro sovente che già era avvantaggiato è stato costretto a patire ulteriori duri contraccolpi Eppure ci siamo rialzati Grazie al comportamento responsabile gli italiani anche seta perduranti difficoltà che richiedo di mantenere adeguati livelli e sicurezza ci siamo\r\n",
      "sulla strada della ripartenza con politica di sostegno a chi era stato colpito dalla frenata dell'Economia e della società e grazie al quadro di fiducia suscitato dei nuovi strumenti europei una risposta solidale all'altezza della gravità della situazione che L'Europa è stata capace di dare e alcuni Italia ha fornito un contributo decisivo Abbiamo anche trovato dentro di noi risorse per reagire per ricostruire questo cammino ho iniziato sarà ancora lungo e non privo di difficoltà ma le condizioni economiche del paese ha visto un recupero oltre le aspettative e le speranze di un anno addietro\r\n",
      "un recupero che è stato accompagnato da una ripresa della vita sociale nel corso di questi anni La nostra Italia ha vissuto e subito altre gravi sofferenze La minaccia del terrorismo internazionale di matrice islamista che ha dolosamente i miei tutto molte vittime per i nostri connazionali all'estero I rami disastri per responsabilità umane i terremoti di alluvioni i caduti militari e civili per il dovere e tanti morti sul lavoro le donne vittime di violenza anche nei momenti più bui non mi sono mai sentito solo\r\n",
      "ho cercato di trasmettere un sentimento di fiducia e di gratitudine a chi era in prima linea ai sindaci alle loro comunità ai presidenti di regione a quanti hanno incessantemente lavorato nei territori accanto alle persone il volto reale di una repubblica unita e solidale è il patriottismo concretamente espresso nella vita della Repubblica la Costituzione affida al capo dello Stato il compito di rappresentare Unità Nazionale questo compito Ti ho cercato di assolvere con impegno è stato facilitato dalla coscienza del legame essenziale in democrazia che esiste\r\n",
      "istituzioni società e che la nostra Costituzione disegna in modo così puntuale questo legame va continuamente rinsaldato dell'azione responsabile dalla lealtà di chi trova svolgere pro-tempore un incarico pubblico a tutti i livelli ma non potrebbero esistere senza il sostegno proveniente dai cittadini spesso Le cronache si incentrano sei punti di tensione e tu le fratture che esistono e non vanno nascoste ma soprattutto nei momenti di grave difficoltà Nazionale emerge l'altitudine del nostro Popolo a preservare la coesione del paese a sentirsi partecipe\r\n",
      "del medesimo destino unità istituzionale e unità morale sono le due espressioni di quel che ci tiene insieme di ciò su cui si fonda la Repubblica credo che ciascun Presidente della Repubblica all'atto della sua elezione avverta 26 gente di fondo spogliarsi di ogni precedente appartenenza e farsi carico esclusivamente nell'interesse generale del bene comune come bene di tutti e di ciascuno e poi salvaguardare ruolo poteri e prerogative della istituzione che riceve dal suo decesso\r\n",
      "e che esercitando li pienamente fino all'ultimo giorno del suo mandato deve trasmettere e integri al suo successore non tocca a me dire se è quanto sei riuscito ad adempiere a questo dovere quel che desidero dirvi è che mi sono dorato in ogni circostanza per svolgere il mio compito nel rispetto rigoroso nel dettato costituzionale e la Costituzione il fondamento saldo e rigoroso dell'Unità Nazionale lo sono i suoi principi e valori che vanno vissuti dagli attori politici e sociali e da tutti i cittadini ea questo riguardo anche questa occasione\r\n",
      "sento di dover esprimere riconoscenza per la leale collaborazione con le altre istituzioni della Repubblica Innanzitutto con il Parlamento che esprime la sovranità popolare nello stesso modo di non con pensiero riconoscente ai presidente del consiglio e i governi che si sono succeduti in questi anni ma come un'abilità Che le istituzioni hanno contribuito a realizzare ha permesso al paese soprattutto in alcuni passaggi particolarmente difficile impegnativi di evitare pericolosi salti nel buio ci troviamo tento processi di cambiamento che si\r\n",
      "l'ho sempre più accelerati occorre Naturalmente il coraggio di guardare la realtà senza filtri di comodo alle antiche diseguaglianze la stagione della pandemia ne aggiunta di nuove le dinamiche spontanee dei mercati talvolta producono squilibri o addirittura ingiustizie che vanno corrette anche al fine di un maggiore è migliore di non più economico una ancora troppo diffusa precarietà fa scoraggiando i giovani nel costruire famiglia e futuro la forte diminuzione delle nascite rappresenta oggi uno degli aspetti più preoccupanti della nostra società\r\n",
      "le transizioni ecologiche digitale sono necessità ineludibile e possono diventare anche un'occasione per migliorare il nostro modello sociale l'Italia dispone delle risorse necessarie per affrontare le sfide dei tempi nuovi pensando al futuro della nostra società mi torna alla mente lo sguardo di tanti giovani che ho incontrato in questi anni domenica si impegnano nel volontariato giovani che si distinguono degli Studi giovani chiamano il proprio lavoro giovani che come necessario si impegnano nella vita delle istituzioni giovani che vogliono aprire\r\n",
      "conoscere giovani che emergono nello sport giovani che hanno patito a causa di condizioni difficili e che risalgono La China imboccando una strada nuova i giovani sono portatori della loro originalità della loro Libertà sono diversi da chi li ha preceduti e chiedono che il testimone non venga negato alle normali alle nuove generazioni sento di dover dire non fermatevi non scoraggiatevi Prendetevi il vostro futuro perché soltanto così ho donerete alla società vorrei ricordare la\r\n",
      "lettera del professor Pietro Carmina Vittima del recente drammatico crollo di Ravanusa professore di filosofia e storia andando in pensione due anni fa aveva scritto sei studenti usate le parole che ti ho insegnato per difender vi è per difendere chi quelle parole non le ha non siate spettatori ma protagonisti della storia che vivete oggi infilatevi dentro sporcatevi le mani mordecchia la vita non attaccatevi Impegnatevi non rinunciate mai a perseguire le vostre mese anche le più ambiziose Scaricatevi sulle spalle chi non ce la fa voi non siete il futuro siete il presente\r\n",
      "Ti prego non siate mai indifferenti non abbiate paura di rischiare per non sbagliare faccio mie con rispetto queste parole di esortazione così efficaci che manifestano anche la dedizione dei nostri docenti a loro compito educativo desidero rivolgere Un augurio affettuoso e Un ringraziamento sincero a Papa Francesco per la forza il suo magistero e per l'amore che esprime all'Italia e all'Europa sottolineando come questo continente posso svolgere un'importante funzione di pace l'equilibrio di difesa dei diritti umani nel mondo che cambia care concittadine cari concittadini\r\n",
      "siamo pronti ad accogliere il nuovo anno ed è un momento di speranza Guardiamo avanti sapendo che il destino dell'Italia dipende anche da ciascuno di noi tante volte abbiamo parlato di una nuova stagione dei doveri tante volte Soprattutto negli ultimi tempi abbiamo sottolineato che dalle difficoltà si esce soltanto se ognuno accetta di fare fino in fondo la parte propria se guardo al cammino che abbiamo fatto insieme in questi sette anni molto fiducia l'Italia crescerà e non farà Quanto piove a conoscenza del comune destino del nostro po'\r\n",
      "E devo pure europei buon anno a tutti voi e la nostra Italia\r\n",
      "\n"
     ]
    }
   ],
   "source": [
    "# ed ecco il risultato, come esempio è stato preso un audio in Italiano, il discorso di fine anno di Mattarella \n",
    "print(text)"
   ]
  },
  {
   "cell_type": "code",
   "execution_count": 1,
   "metadata": {},
   "outputs": [],
   "source": [
    "# alcune parole non sono corrette, ma è un buon livello di risultato, si comporta bene anche con file audio di lezioni eliminando rumori di sottofondo,"
   ]
  }
 ],
 "metadata": {
  "kernelspec": {
   "display_name": "Python 3",
   "language": "python",
   "name": "python3"
  },
  "language_info": {
   "codemirror_mode": {
    "name": "ipython",
    "version": 3
   },
   "file_extension": ".py",
   "mimetype": "text/x-python",
   "name": "python",
   "nbconvert_exporter": "python",
   "pygments_lexer": "ipython3",
   "version": "3.8.1"
  }
 },
 "nbformat": 4,
 "nbformat_minor": 2
}
